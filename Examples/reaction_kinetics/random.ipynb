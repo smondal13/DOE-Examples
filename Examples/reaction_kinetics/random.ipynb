{
 "cells": [
  {
   "cell_type": "markdown",
   "id": "1d778412",
   "metadata": {},
   "source": []
  },
  {
   "cell_type": "code",
   "execution_count": 4,
   "id": "c076400d",
   "metadata": {},
   "outputs": [],
   "source": [
    "import pyomo.environ as pyo\n",
    "m = pyo.ConcreteModel()\n",
    "m.a = pyo.Set(initialize=[1, 2, 3])"
   ]
  },
  {
   "cell_type": "code",
   "execution_count": 9,
   "id": "609f5425",
   "metadata": {},
   "outputs": [
    {
     "data": {
      "text/plain": [
       "1"
      ]
     },
     "execution_count": 9,
     "metadata": {},
     "output_type": "execute_result"
    }
   ],
   "source": [
    "m.a.at(1)"
   ]
  },
  {
   "cell_type": "code",
   "execution_count": null,
   "id": "78ca5eff",
   "metadata": {},
   "outputs": [
    {
     "data": {
      "text/plain": [
       "[<generator object <listcomp>.<genexpr> at 0x11011c430>,\n",
       " <generator object <listcomp>.<genexpr> at 0x11011c900>]"
      ]
     },
     "execution_count": 11,
     "metadata": {},
     "output_type": "execute_result"
    }
   ],
   "source": [
    "[(i, j) for i in [1, 2] for j in [\"a\", \"b\"]]"
   ]
  }
 ],
 "metadata": {
  "kernelspec": {
   "display_name": "idaes-env",
   "language": "python",
   "name": "python3"
  },
  "language_info": {
   "codemirror_mode": {
    "name": "ipython",
    "version": 3
   },
   "file_extension": ".py",
   "mimetype": "text/x-python",
   "name": "python",
   "nbconvert_exporter": "python",
   "pygments_lexer": "ipython3",
   "version": "3.10.16"
  }
 },
 "nbformat": 4,
 "nbformat_minor": 5
}
